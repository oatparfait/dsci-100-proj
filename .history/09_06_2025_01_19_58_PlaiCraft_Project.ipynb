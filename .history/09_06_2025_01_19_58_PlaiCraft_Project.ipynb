{
 "cells": [
  {
   "cell_type": "code",
   "execution_count": null,
   "id": "e2584080-713f-4ac5-806f-1f1c0ed205ec",
   "metadata": {},
   "outputs": [],
   "source": [
    "library(tidyverse)\n",
    "library(tidymodels)"
   ]
  },
  {
   "cell_type": "code",
   "execution_count": null,
   "id": "3661ad2f-ff47-4970-a246-9c5f30a454c5",
   "metadata": {},
   "outputs": [],
   "source": [
    "players <- read_csv(\"data/players.csv\")\n",
    "players"
   ]
  },
  {
   "cell_type": "code",
   "execution_count": null,
   "id": "36a7c2a3-6296-470e-8be5-ddc57ff15890",
   "metadata": {},
   "outputs": [],
   "source": [
    "sessions <- read_csv(\"data/sessions.csv\")\n",
    "sessions"
   ]
  },
  {
   "cell_type": "code",
   "execution_count": null,
   "id": "512c48d0-8470-4c37-8285-9d83e0187b5f",
   "metadata": {},
   "outputs": [],
   "source": [
    "sessions_tidy <- sessions |>\n",
    "    mutate(start_date = substr"
   ]
  }
 ],
 "metadata": {
  "kernelspec": {
   "display_name": "R",
   "language": "R",
   "name": "ir"
  },
  "language_info": {
   "codemirror_mode": "r",
   "file_extension": ".r",
   "mimetype": "text/x-r-source",
   "name": "R",
   "pygments_lexer": "r",
   "version": "4.3.3"
  }
 },
 "nbformat": 4,
 "nbformat_minor": 5
}
